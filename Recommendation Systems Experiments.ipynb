{
 "cells": [
  {
   "cell_type": "code",
   "execution_count": 13,
   "outputs": [],
   "source": [
    "# !pip install lenskit"
   ],
   "metadata": {
    "collapsed": false,
    "pycharm": {
     "name": "#%%\n"
    }
   }
  },
  {
   "cell_type": "code",
   "execution_count": 14,
   "outputs": [
    {
     "data": {
      "text/plain": "   user  item  rating  timestamp\n0   196   242     3.0  881250949\n1   186   302     3.0  891717742\n2    22   377     1.0  878887116\n3   244    51     2.0  880606923\n4   166   346     1.0  886397596",
      "text/html": "<div>\n<style scoped>\n    .dataframe tbody tr th:only-of-type {\n        vertical-align: middle;\n    }\n\n    .dataframe tbody tr th {\n        vertical-align: top;\n    }\n\n    .dataframe thead th {\n        text-align: right;\n    }\n</style>\n<table border=\"1\" class=\"dataframe\">\n  <thead>\n    <tr style=\"text-align: right;\">\n      <th></th>\n      <th>user</th>\n      <th>item</th>\n      <th>rating</th>\n      <th>timestamp</th>\n    </tr>\n  </thead>\n  <tbody>\n    <tr>\n      <th>0</th>\n      <td>196</td>\n      <td>242</td>\n      <td>3.0</td>\n      <td>881250949</td>\n    </tr>\n    <tr>\n      <th>1</th>\n      <td>186</td>\n      <td>302</td>\n      <td>3.0</td>\n      <td>891717742</td>\n    </tr>\n    <tr>\n      <th>2</th>\n      <td>22</td>\n      <td>377</td>\n      <td>1.0</td>\n      <td>878887116</td>\n    </tr>\n    <tr>\n      <th>3</th>\n      <td>244</td>\n      <td>51</td>\n      <td>2.0</td>\n      <td>880606923</td>\n    </tr>\n    <tr>\n      <th>4</th>\n      <td>166</td>\n      <td>346</td>\n      <td>1.0</td>\n      <td>886397596</td>\n    </tr>\n  </tbody>\n</table>\n</div>"
     },
     "execution_count": 14,
     "metadata": {},
     "output_type": "execute_result"
    }
   ],
   "source": [
    "from lenskit.datasets import ML100K\n",
    "\n",
    "# Datasource: https://grouplens.org/datasets/movielens/100k/\n",
    "ml = ML100K('ml-100k')\n",
    "ratings = ml.ratings\n",
    "ratings.head()"
   ],
   "metadata": {
    "collapsed": false,
    "pycharm": {
     "name": "#%%\n"
    }
   }
  },
  {
   "cell_type": "code",
   "execution_count": 10,
   "outputs": [
    {
     "data": {
      "text/plain": "                                          title      release  vidrelease  \\\nitem                                                                       \n1                              Toy Story (1995)  01-Jan-1995         NaN   \n2                              GoldenEye (1995)  01-Jan-1995         NaN   \n3                             Four Rooms (1995)  01-Jan-1995         NaN   \n4                             Get Shorty (1995)  01-Jan-1995         NaN   \n5                                Copycat (1995)  01-Jan-1995         NaN   \n...                                         ...          ...         ...   \n1678                          Mat' i syn (1997)  06-Feb-1998         NaN   \n1679                           B. Monkey (1998)  06-Feb-1998         NaN   \n1680                       Sliding Doors (1998)  01-Jan-1998         NaN   \n1681                        You So Crazy (1994)  01-Jan-1994         NaN   \n1682  Scream of Stone (Schrei aus Stein) (1991)  08-Mar-1996         NaN   \n\n                                                   imdb  unknown  Action  \\\nitem                                                                       \n1     http://us.imdb.com/M/title-exact?Toy%20Story%2...        0       0   \n2     http://us.imdb.com/M/title-exact?GoldenEye%20(...        0       1   \n3     http://us.imdb.com/M/title-exact?Four%20Rooms%...        0       0   \n4     http://us.imdb.com/M/title-exact?Get%20Shorty%...        0       1   \n5     http://us.imdb.com/M/title-exact?Copycat%20(1995)        0       0   \n...                                                 ...      ...     ...   \n1678  http://us.imdb.com/M/title-exact?Mat%27+i+syn+...        0       0   \n1679  http://us.imdb.com/M/title-exact?B%2E+Monkey+(...        0       0   \n1680      http://us.imdb.com/Title?Sliding+Doors+(1998)        0       0   \n1681  http://us.imdb.com/M/title-exact?You%20So%20Cr...        0       0   \n1682  http://us.imdb.com/M/title-exact?Schrei%20aus%...        0       0   \n\n      Adventure  Animation  Children's  Comedy  ...  Fantasy  Film-Noir  \\\nitem                                            ...                       \n1             0          1           1       1  ...        0          0   \n2             1          0           0       0  ...        0          0   \n3             0          0           0       0  ...        0          0   \n4             0          0           0       1  ...        0          0   \n5             0          0           0       0  ...        0          0   \n...         ...        ...         ...     ...  ...      ...        ...   \n1678          0          0           0       0  ...        0          0   \n1679          0          0           0       0  ...        0          0   \n1680          0          0           0       0  ...        0          0   \n1681          0          0           0       1  ...        0          0   \n1682          0          0           0       0  ...        0          0   \n\n      Horror  Musical  Mystery  Romance  Sci-Fi  Thriller  War  Western  \nitem                                                                     \n1          0        0        0        0       0         0    0        0  \n2          0        0        0        0       0         1    0        0  \n3          0        0        0        0       0         1    0        0  \n4          0        0        0        0       0         0    0        0  \n5          0        0        0        0       0         1    0        0  \n...      ...      ...      ...      ...     ...       ...  ...      ...  \n1678       0        0        0        0       0         0    0        0  \n1679       0        0        0        1       0         1    0        0  \n1680       0        0        0        1       0         0    0        0  \n1681       0        0        0        0       0         0    0        0  \n1682       0        0        0        0       0         0    0        0  \n\n[1682 rows x 23 columns]",
      "text/html": "<div>\n<style scoped>\n    .dataframe tbody tr th:only-of-type {\n        vertical-align: middle;\n    }\n\n    .dataframe tbody tr th {\n        vertical-align: top;\n    }\n\n    .dataframe thead th {\n        text-align: right;\n    }\n</style>\n<table border=\"1\" class=\"dataframe\">\n  <thead>\n    <tr style=\"text-align: right;\">\n      <th></th>\n      <th>title</th>\n      <th>release</th>\n      <th>vidrelease</th>\n      <th>imdb</th>\n      <th>unknown</th>\n      <th>Action</th>\n      <th>Adventure</th>\n      <th>Animation</th>\n      <th>Children's</th>\n      <th>Comedy</th>\n      <th>...</th>\n      <th>Fantasy</th>\n      <th>Film-Noir</th>\n      <th>Horror</th>\n      <th>Musical</th>\n      <th>Mystery</th>\n      <th>Romance</th>\n      <th>Sci-Fi</th>\n      <th>Thriller</th>\n      <th>War</th>\n      <th>Western</th>\n    </tr>\n    <tr>\n      <th>item</th>\n      <th></th>\n      <th></th>\n      <th></th>\n      <th></th>\n      <th></th>\n      <th></th>\n      <th></th>\n      <th></th>\n      <th></th>\n      <th></th>\n      <th></th>\n      <th></th>\n      <th></th>\n      <th></th>\n      <th></th>\n      <th></th>\n      <th></th>\n      <th></th>\n      <th></th>\n      <th></th>\n      <th></th>\n    </tr>\n  </thead>\n  <tbody>\n    <tr>\n      <th>1</th>\n      <td>Toy Story (1995)</td>\n      <td>01-Jan-1995</td>\n      <td>NaN</td>\n      <td>http://us.imdb.com/M/title-exact?Toy%20Story%2...</td>\n      <td>0</td>\n      <td>0</td>\n      <td>0</td>\n      <td>1</td>\n      <td>1</td>\n      <td>1</td>\n      <td>...</td>\n      <td>0</td>\n      <td>0</td>\n      <td>0</td>\n      <td>0</td>\n      <td>0</td>\n      <td>0</td>\n      <td>0</td>\n      <td>0</td>\n      <td>0</td>\n      <td>0</td>\n    </tr>\n    <tr>\n      <th>2</th>\n      <td>GoldenEye (1995)</td>\n      <td>01-Jan-1995</td>\n      <td>NaN</td>\n      <td>http://us.imdb.com/M/title-exact?GoldenEye%20(...</td>\n      <td>0</td>\n      <td>1</td>\n      <td>1</td>\n      <td>0</td>\n      <td>0</td>\n      <td>0</td>\n      <td>...</td>\n      <td>0</td>\n      <td>0</td>\n      <td>0</td>\n      <td>0</td>\n      <td>0</td>\n      <td>0</td>\n      <td>0</td>\n      <td>1</td>\n      <td>0</td>\n      <td>0</td>\n    </tr>\n    <tr>\n      <th>3</th>\n      <td>Four Rooms (1995)</td>\n      <td>01-Jan-1995</td>\n      <td>NaN</td>\n      <td>http://us.imdb.com/M/title-exact?Four%20Rooms%...</td>\n      <td>0</td>\n      <td>0</td>\n      <td>0</td>\n      <td>0</td>\n      <td>0</td>\n      <td>0</td>\n      <td>...</td>\n      <td>0</td>\n      <td>0</td>\n      <td>0</td>\n      <td>0</td>\n      <td>0</td>\n      <td>0</td>\n      <td>0</td>\n      <td>1</td>\n      <td>0</td>\n      <td>0</td>\n    </tr>\n    <tr>\n      <th>4</th>\n      <td>Get Shorty (1995)</td>\n      <td>01-Jan-1995</td>\n      <td>NaN</td>\n      <td>http://us.imdb.com/M/title-exact?Get%20Shorty%...</td>\n      <td>0</td>\n      <td>1</td>\n      <td>0</td>\n      <td>0</td>\n      <td>0</td>\n      <td>1</td>\n      <td>...</td>\n      <td>0</td>\n      <td>0</td>\n      <td>0</td>\n      <td>0</td>\n      <td>0</td>\n      <td>0</td>\n      <td>0</td>\n      <td>0</td>\n      <td>0</td>\n      <td>0</td>\n    </tr>\n    <tr>\n      <th>5</th>\n      <td>Copycat (1995)</td>\n      <td>01-Jan-1995</td>\n      <td>NaN</td>\n      <td>http://us.imdb.com/M/title-exact?Copycat%20(1995)</td>\n      <td>0</td>\n      <td>0</td>\n      <td>0</td>\n      <td>0</td>\n      <td>0</td>\n      <td>0</td>\n      <td>...</td>\n      <td>0</td>\n      <td>0</td>\n      <td>0</td>\n      <td>0</td>\n      <td>0</td>\n      <td>0</td>\n      <td>0</td>\n      <td>1</td>\n      <td>0</td>\n      <td>0</td>\n    </tr>\n    <tr>\n      <th>...</th>\n      <td>...</td>\n      <td>...</td>\n      <td>...</td>\n      <td>...</td>\n      <td>...</td>\n      <td>...</td>\n      <td>...</td>\n      <td>...</td>\n      <td>...</td>\n      <td>...</td>\n      <td>...</td>\n      <td>...</td>\n      <td>...</td>\n      <td>...</td>\n      <td>...</td>\n      <td>...</td>\n      <td>...</td>\n      <td>...</td>\n      <td>...</td>\n      <td>...</td>\n      <td>...</td>\n    </tr>\n    <tr>\n      <th>1678</th>\n      <td>Mat' i syn (1997)</td>\n      <td>06-Feb-1998</td>\n      <td>NaN</td>\n      <td>http://us.imdb.com/M/title-exact?Mat%27+i+syn+...</td>\n      <td>0</td>\n      <td>0</td>\n      <td>0</td>\n      <td>0</td>\n      <td>0</td>\n      <td>0</td>\n      <td>...</td>\n      <td>0</td>\n      <td>0</td>\n      <td>0</td>\n      <td>0</td>\n      <td>0</td>\n      <td>0</td>\n      <td>0</td>\n      <td>0</td>\n      <td>0</td>\n      <td>0</td>\n    </tr>\n    <tr>\n      <th>1679</th>\n      <td>B. Monkey (1998)</td>\n      <td>06-Feb-1998</td>\n      <td>NaN</td>\n      <td>http://us.imdb.com/M/title-exact?B%2E+Monkey+(...</td>\n      <td>0</td>\n      <td>0</td>\n      <td>0</td>\n      <td>0</td>\n      <td>0</td>\n      <td>0</td>\n      <td>...</td>\n      <td>0</td>\n      <td>0</td>\n      <td>0</td>\n      <td>0</td>\n      <td>0</td>\n      <td>1</td>\n      <td>0</td>\n      <td>1</td>\n      <td>0</td>\n      <td>0</td>\n    </tr>\n    <tr>\n      <th>1680</th>\n      <td>Sliding Doors (1998)</td>\n      <td>01-Jan-1998</td>\n      <td>NaN</td>\n      <td>http://us.imdb.com/Title?Sliding+Doors+(1998)</td>\n      <td>0</td>\n      <td>0</td>\n      <td>0</td>\n      <td>0</td>\n      <td>0</td>\n      <td>0</td>\n      <td>...</td>\n      <td>0</td>\n      <td>0</td>\n      <td>0</td>\n      <td>0</td>\n      <td>0</td>\n      <td>1</td>\n      <td>0</td>\n      <td>0</td>\n      <td>0</td>\n      <td>0</td>\n    </tr>\n    <tr>\n      <th>1681</th>\n      <td>You So Crazy (1994)</td>\n      <td>01-Jan-1994</td>\n      <td>NaN</td>\n      <td>http://us.imdb.com/M/title-exact?You%20So%20Cr...</td>\n      <td>0</td>\n      <td>0</td>\n      <td>0</td>\n      <td>0</td>\n      <td>0</td>\n      <td>1</td>\n      <td>...</td>\n      <td>0</td>\n      <td>0</td>\n      <td>0</td>\n      <td>0</td>\n      <td>0</td>\n      <td>0</td>\n      <td>0</td>\n      <td>0</td>\n      <td>0</td>\n      <td>0</td>\n    </tr>\n    <tr>\n      <th>1682</th>\n      <td>Scream of Stone (Schrei aus Stein) (1991)</td>\n      <td>08-Mar-1996</td>\n      <td>NaN</td>\n      <td>http://us.imdb.com/M/title-exact?Schrei%20aus%...</td>\n      <td>0</td>\n      <td>0</td>\n      <td>0</td>\n      <td>0</td>\n      <td>0</td>\n      <td>0</td>\n      <td>...</td>\n      <td>0</td>\n      <td>0</td>\n      <td>0</td>\n      <td>0</td>\n      <td>0</td>\n      <td>0</td>\n      <td>0</td>\n      <td>0</td>\n      <td>0</td>\n      <td>0</td>\n    </tr>\n  </tbody>\n</table>\n<p>1682 rows × 23 columns</p>\n</div>"
     },
     "execution_count": 10,
     "metadata": {},
     "output_type": "execute_result"
    }
   ],
   "source": [
    "ml.movies"
   ],
   "metadata": {
    "collapsed": false,
    "pycharm": {
     "name": "#%%\n"
    }
   }
  },
  {
   "cell_type": "code",
   "execution_count": 33,
   "outputs": [
    {
     "data": {
      "text/plain": "pandas.core.frame.DataFrame"
     },
     "execution_count": 33,
     "metadata": {},
     "output_type": "execute_result"
    }
   ],
   "source": [
    "type(ml.movies)"
   ],
   "metadata": {
    "collapsed": false,
    "pycharm": {
     "name": "#%%\n"
    }
   }
  },
  {
   "cell_type": "code",
   "execution_count": 12,
   "outputs": [
    {
     "data": {
      "text/plain": "      age gender     occupation    zip\nuser                                  \n1      24      M     technician  85711\n2      53      F          other  94043\n3      23      M         writer  32067\n4      24      M     technician  43537\n5      33      F          other  15213\n...   ...    ...            ...    ...\n939    26      F        student  33319\n940    32      M  administrator  02215\n941    20      M        student  97229\n942    48      F      librarian  78209\n943    22      M        student  77841\n\n[943 rows x 4 columns]",
      "text/html": "<div>\n<style scoped>\n    .dataframe tbody tr th:only-of-type {\n        vertical-align: middle;\n    }\n\n    .dataframe tbody tr th {\n        vertical-align: top;\n    }\n\n    .dataframe thead th {\n        text-align: right;\n    }\n</style>\n<table border=\"1\" class=\"dataframe\">\n  <thead>\n    <tr style=\"text-align: right;\">\n      <th></th>\n      <th>age</th>\n      <th>gender</th>\n      <th>occupation</th>\n      <th>zip</th>\n    </tr>\n    <tr>\n      <th>user</th>\n      <th></th>\n      <th></th>\n      <th></th>\n      <th></th>\n    </tr>\n  </thead>\n  <tbody>\n    <tr>\n      <th>1</th>\n      <td>24</td>\n      <td>M</td>\n      <td>technician</td>\n      <td>85711</td>\n    </tr>\n    <tr>\n      <th>2</th>\n      <td>53</td>\n      <td>F</td>\n      <td>other</td>\n      <td>94043</td>\n    </tr>\n    <tr>\n      <th>3</th>\n      <td>23</td>\n      <td>M</td>\n      <td>writer</td>\n      <td>32067</td>\n    </tr>\n    <tr>\n      <th>4</th>\n      <td>24</td>\n      <td>M</td>\n      <td>technician</td>\n      <td>43537</td>\n    </tr>\n    <tr>\n      <th>5</th>\n      <td>33</td>\n      <td>F</td>\n      <td>other</td>\n      <td>15213</td>\n    </tr>\n    <tr>\n      <th>...</th>\n      <td>...</td>\n      <td>...</td>\n      <td>...</td>\n      <td>...</td>\n    </tr>\n    <tr>\n      <th>939</th>\n      <td>26</td>\n      <td>F</td>\n      <td>student</td>\n      <td>33319</td>\n    </tr>\n    <tr>\n      <th>940</th>\n      <td>32</td>\n      <td>M</td>\n      <td>administrator</td>\n      <td>02215</td>\n    </tr>\n    <tr>\n      <th>941</th>\n      <td>20</td>\n      <td>M</td>\n      <td>student</td>\n      <td>97229</td>\n    </tr>\n    <tr>\n      <th>942</th>\n      <td>48</td>\n      <td>F</td>\n      <td>librarian</td>\n      <td>78209</td>\n    </tr>\n    <tr>\n      <th>943</th>\n      <td>22</td>\n      <td>M</td>\n      <td>student</td>\n      <td>77841</td>\n    </tr>\n  </tbody>\n</table>\n<p>943 rows × 4 columns</p>\n</div>"
     },
     "execution_count": 12,
     "metadata": {},
     "output_type": "execute_result"
    }
   ],
   "source": [
    "ml.users"
   ],
   "metadata": {
    "collapsed": false,
    "pycharm": {
     "name": "#%%\n"
    }
   }
  },
  {
   "cell_type": "code",
   "execution_count": 32,
   "outputs": [
    {
     "name": "stdout",
     "output_type": "stream",
     "text": [
      "    item  score\n",
      "0    258  505.0\n",
      "1    286  478.0\n",
      "2    294  476.0\n",
      "3      1  442.0\n",
      "4    300  430.0\n",
      "5    237  380.0\n",
      "6    117  374.0\n",
      "7     79  333.0\n",
      "8    405  333.0\n",
      "9     69  320.0\n",
      "10   748  313.0\n",
      "11   257  301.0\n",
      "12   423  297.0\n",
      "13   118  292.0\n",
      "14   318  292.0\n",
      "15   328  291.0\n",
      "16   183  289.0\n",
      "17   216  285.0\n",
      "18   234  279.0\n",
      "19    64  278.0\n"
     ]
    }
   ],
   "source": [
    "# Baseline Model\n",
    "from lenskit.algorithms.basic import Popular\n",
    "\n",
    "baseline = Popular()\n",
    "baseline.fit(ratings[:-1000])\n",
    "\n",
    "# Hardcode -> User 14 is a scientist\n",
    "recommendations_df = baseline.recommend(14, n=20)\n",
    "print(recommendations_df)"
   ],
   "metadata": {
    "collapsed": false,
    "pycharm": {
     "name": "#%%\n"
    }
   }
  },
  {
   "cell_type": "code",
   "execution_count": 40,
   "outputs": [
    {
     "data": {
      "text/plain": "                                  title      release  \\\nitem                                                   \n1                      Toy Story (1995)  01-Jan-1995   \n64     Shawshank Redemption, The (1994)  01-Jan-1994   \n69                  Forrest Gump (1994)  01-Jan-1994   \n79                 Fugitive, The (1993)  01-Jan-1993   \n117                    Rock, The (1996)  07-Jun-1996   \n118                      Twister (1996)  10-May-1996   \n183                        Alien (1979)  01-Jan-1979   \n216      When Harry Met Sally... (1989)  01-Jan-1989   \n234                         Jaws (1975)  01-Jan-1975   \n237                Jerry Maguire (1996)  13-Dec-1996   \n257                 Men in Black (1997)  04-Jul-1997   \n258                      Contact (1997)  11-Jul-1997   \n286         English Patient, The (1996)  15-Nov-1996   \n294                    Liar Liar (1997)  21-Mar-1997   \n300                Air Force One (1997)  01-Jan-1997   \n318             Schindler's List (1993)  01-Jan-1993   \n328            Conspiracy Theory (1997)  08-Aug-1997   \n405          Mission: Impossible (1996)  22-May-1996   \n423   E.T. the Extra-Terrestrial (1982)  01-Jan-1982   \n748                   Saint, The (1997)  14-Mar-1997   \n\n                                                   imdb  score  \nitem                                                            \n1     http://us.imdb.com/M/title-exact?Toy%20Story%2...  442.0  \n64    http://us.imdb.com/M/title-exact?Shawshank%20R...  278.0  \n69    http://us.imdb.com/M/title-exact?Forrest%20Gum...  320.0  \n79    http://us.imdb.com/M/title-exact?Fugitive,%20T...  333.0  \n117   http://us.imdb.com/M/title-exact?Rock,%20The%2...  374.0  \n118   http://us.imdb.com/M/title-exact?Twister%20(1996)  292.0  \n183     http://us.imdb.com/M/title-exact?Alien%20(1979)  289.0  \n216   http://us.imdb.com/M/title-exact?When%20Harry%...  285.0  \n234      http://us.imdb.com/M/title-exact?Jaws%20(1975)  279.0  \n237   http://us.imdb.com/M/title-exact?Jerry%20Magui...  380.0  \n257   http://us.imdb.com/M/title-exact?Men+in+Black+...  301.0  \n258           http://us.imdb.com/Title?Contact+(1997/I)  505.0  \n286   http://us.imdb.com/M/title-exact?English%20Pat...  478.0  \n294           http://us.imdb.com/Title?Liar+Liar+(1997)  476.0  \n300   http://us.imdb.com/M/title-exact?Air+Force+One...  430.0  \n318   http://us.imdb.com/M/title-exact?Schindler's%2...  292.0  \n328   http://us.imdb.com/M/title-exact?Conspiracy+Th...  291.0  \n405   http://us.imdb.com/M/title-exact?Mission:%20Im...  333.0  \n423   http://us.imdb.com/M/title-exact?E%2ET%2E%20th...  297.0  \n748   http://us.imdb.com/M/title-exact?Saint%2C%20Th...  313.0  ",
      "text/html": "<div>\n<style scoped>\n    .dataframe tbody tr th:only-of-type {\n        vertical-align: middle;\n    }\n\n    .dataframe tbody tr th {\n        vertical-align: top;\n    }\n\n    .dataframe thead th {\n        text-align: right;\n    }\n</style>\n<table border=\"1\" class=\"dataframe\">\n  <thead>\n    <tr style=\"text-align: right;\">\n      <th></th>\n      <th>title</th>\n      <th>release</th>\n      <th>imdb</th>\n      <th>score</th>\n    </tr>\n    <tr>\n      <th>item</th>\n      <th></th>\n      <th></th>\n      <th></th>\n      <th></th>\n    </tr>\n  </thead>\n  <tbody>\n    <tr>\n      <th>1</th>\n      <td>Toy Story (1995)</td>\n      <td>01-Jan-1995</td>\n      <td>http://us.imdb.com/M/title-exact?Toy%20Story%2...</td>\n      <td>442.0</td>\n    </tr>\n    <tr>\n      <th>64</th>\n      <td>Shawshank Redemption, The (1994)</td>\n      <td>01-Jan-1994</td>\n      <td>http://us.imdb.com/M/title-exact?Shawshank%20R...</td>\n      <td>278.0</td>\n    </tr>\n    <tr>\n      <th>69</th>\n      <td>Forrest Gump (1994)</td>\n      <td>01-Jan-1994</td>\n      <td>http://us.imdb.com/M/title-exact?Forrest%20Gum...</td>\n      <td>320.0</td>\n    </tr>\n    <tr>\n      <th>79</th>\n      <td>Fugitive, The (1993)</td>\n      <td>01-Jan-1993</td>\n      <td>http://us.imdb.com/M/title-exact?Fugitive,%20T...</td>\n      <td>333.0</td>\n    </tr>\n    <tr>\n      <th>117</th>\n      <td>Rock, The (1996)</td>\n      <td>07-Jun-1996</td>\n      <td>http://us.imdb.com/M/title-exact?Rock,%20The%2...</td>\n      <td>374.0</td>\n    </tr>\n    <tr>\n      <th>118</th>\n      <td>Twister (1996)</td>\n      <td>10-May-1996</td>\n      <td>http://us.imdb.com/M/title-exact?Twister%20(1996)</td>\n      <td>292.0</td>\n    </tr>\n    <tr>\n      <th>183</th>\n      <td>Alien (1979)</td>\n      <td>01-Jan-1979</td>\n      <td>http://us.imdb.com/M/title-exact?Alien%20(1979)</td>\n      <td>289.0</td>\n    </tr>\n    <tr>\n      <th>216</th>\n      <td>When Harry Met Sally... (1989)</td>\n      <td>01-Jan-1989</td>\n      <td>http://us.imdb.com/M/title-exact?When%20Harry%...</td>\n      <td>285.0</td>\n    </tr>\n    <tr>\n      <th>234</th>\n      <td>Jaws (1975)</td>\n      <td>01-Jan-1975</td>\n      <td>http://us.imdb.com/M/title-exact?Jaws%20(1975)</td>\n      <td>279.0</td>\n    </tr>\n    <tr>\n      <th>237</th>\n      <td>Jerry Maguire (1996)</td>\n      <td>13-Dec-1996</td>\n      <td>http://us.imdb.com/M/title-exact?Jerry%20Magui...</td>\n      <td>380.0</td>\n    </tr>\n    <tr>\n      <th>257</th>\n      <td>Men in Black (1997)</td>\n      <td>04-Jul-1997</td>\n      <td>http://us.imdb.com/M/title-exact?Men+in+Black+...</td>\n      <td>301.0</td>\n    </tr>\n    <tr>\n      <th>258</th>\n      <td>Contact (1997)</td>\n      <td>11-Jul-1997</td>\n      <td>http://us.imdb.com/Title?Contact+(1997/I)</td>\n      <td>505.0</td>\n    </tr>\n    <tr>\n      <th>286</th>\n      <td>English Patient, The (1996)</td>\n      <td>15-Nov-1996</td>\n      <td>http://us.imdb.com/M/title-exact?English%20Pat...</td>\n      <td>478.0</td>\n    </tr>\n    <tr>\n      <th>294</th>\n      <td>Liar Liar (1997)</td>\n      <td>21-Mar-1997</td>\n      <td>http://us.imdb.com/Title?Liar+Liar+(1997)</td>\n      <td>476.0</td>\n    </tr>\n    <tr>\n      <th>300</th>\n      <td>Air Force One (1997)</td>\n      <td>01-Jan-1997</td>\n      <td>http://us.imdb.com/M/title-exact?Air+Force+One...</td>\n      <td>430.0</td>\n    </tr>\n    <tr>\n      <th>318</th>\n      <td>Schindler's List (1993)</td>\n      <td>01-Jan-1993</td>\n      <td>http://us.imdb.com/M/title-exact?Schindler's%2...</td>\n      <td>292.0</td>\n    </tr>\n    <tr>\n      <th>328</th>\n      <td>Conspiracy Theory (1997)</td>\n      <td>08-Aug-1997</td>\n      <td>http://us.imdb.com/M/title-exact?Conspiracy+Th...</td>\n      <td>291.0</td>\n    </tr>\n    <tr>\n      <th>405</th>\n      <td>Mission: Impossible (1996)</td>\n      <td>22-May-1996</td>\n      <td>http://us.imdb.com/M/title-exact?Mission:%20Im...</td>\n      <td>333.0</td>\n    </tr>\n    <tr>\n      <th>423</th>\n      <td>E.T. the Extra-Terrestrial (1982)</td>\n      <td>01-Jan-1982</td>\n      <td>http://us.imdb.com/M/title-exact?E%2ET%2E%20th...</td>\n      <td>297.0</td>\n    </tr>\n    <tr>\n      <th>748</th>\n      <td>Saint, The (1997)</td>\n      <td>14-Mar-1997</td>\n      <td>http://us.imdb.com/M/title-exact?Saint%2C%20Th...</td>\n      <td>313.0</td>\n    </tr>\n  </tbody>\n</table>\n</div>"
     },
     "execution_count": 40,
     "metadata": {},
     "output_type": "execute_result"
    }
   ],
   "source": [
    "response = ml.movies.join(recommendations_df.set_index(\"item\"), on=\"item\", how= \"inner\")\n",
    "response[[\"title\", \"release\", \"imdb\", \"score\"]]"
   ],
   "metadata": {
    "collapsed": false,
    "pycharm": {
     "name": "#%%\n"
    }
   }
  },
  {
   "cell_type": "code",
   "execution_count": 40,
   "outputs": [],
   "source": [
    "# Implement the Logic from previous cells\n",
    "def get_user_recommendations(age=28, gender=\"M\", occupation=\"scientist\"):\n",
    "    raise NotImplementedError()\n"
   ],
   "metadata": {
    "collapsed": false,
    "pycharm": {
     "name": "#%%\n"
    }
   }
  },
  {
   "cell_type": "code",
   "execution_count": null,
   "outputs": [],
   "source": [],
   "metadata": {
    "collapsed": false,
    "pycharm": {
     "name": "#%%\n"
    }
   }
  },
  {
   "cell_type": "code",
   "execution_count": 14,
   "outputs": [],
   "source": [],
   "metadata": {
    "collapsed": false,
    "pycharm": {
     "name": "#%%\n"
    }
   }
  },
  {
   "cell_type": "code",
   "execution_count": null,
   "outputs": [],
   "source": [],
   "metadata": {
    "collapsed": false,
    "pycharm": {
     "name": "#%%\n"
    }
   }
  },
  {
   "cell_type": "code",
   "execution_count": null,
   "outputs": [],
   "source": [],
   "metadata": {
    "collapsed": false,
    "pycharm": {
     "name": "#%%\n"
    }
   }
  },
  {
   "cell_type": "code",
   "execution_count": null,
   "outputs": [],
   "source": [],
   "metadata": {
    "collapsed": false,
    "pycharm": {
     "name": "#%%\n"
    }
   }
  },
  {
   "cell_type": "code",
   "execution_count": null,
   "outputs": [],
   "source": [],
   "metadata": {
    "collapsed": false,
    "pycharm": {
     "name": "#%%\n"
    }
   }
  }
 ],
 "metadata": {
  "kernelspec": {
   "display_name": "Python 3",
   "language": "python",
   "name": "python3"
  },
  "language_info": {
   "codemirror_mode": {
    "name": "ipython",
    "version": 2
   },
   "file_extension": ".py",
   "mimetype": "text/x-python",
   "name": "python",
   "nbconvert_exporter": "python",
   "pygments_lexer": "ipython2",
   "version": "2.7.6"
  }
 },
 "nbformat": 4,
 "nbformat_minor": 0
}